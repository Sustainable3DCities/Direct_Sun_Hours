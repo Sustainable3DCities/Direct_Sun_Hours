{
 "cells": [
  {
   "cell_type": "markdown",
   "metadata": {},
   "source": [
    "<br>\n",
    "<br>\n",
    "<br>\n",
    "\n",
    "# Calculate Window Centroid \n",
    "This notebook is dedicated to computing the centroid of rectangular windows on 3D buildings.\n",
    "<br>\n",
    "<br>\n",
    "<br>"
   ]
  },
  {
   "cell_type": "code",
   "execution_count": null,
   "metadata": {},
   "outputs": [],
   "source": [
    "#Import modules:\n",
    "import arcpy\n",
    "import os"
   ]
  },
  {
   "cell_type": "markdown",
   "metadata": {},
   "source": [
    "<br>\n",
    "<br>\n",
    "\n",
    "## Help functions"
   ]
  },
  {
   "cell_type": "code",
   "execution_count": null,
   "metadata": {},
   "outputs": [],
   "source": [
    "def get_field_names(fc):\n",
    "    \n",
    "    #Get a list of fieldnames for input shapefile:\n",
    "    f_names = [f.name for f in arcpy.ListFields(fc)]\n",
    "    \n",
    "    #Return list with fieldnames:\n",
    "    return f_names"
   ]
  },
  {
   "cell_type": "code",
   "execution_count": null,
   "metadata": {},
   "outputs": [],
   "source": [
    "#Function that takes the name of a shapefile stored in the \n",
    "#current working environment as input (string) and returns\n",
    "#the content of the corresponding Table Of Contents (TOC):\n",
    "def get_TOC(fc):\n",
    "    \n",
    "    #Get a list of field-names:\n",
    "    f_names = [f.name for f in arcpy.ListFields(fc)]\n",
    "    \n",
    "    #Open shapefile and print every row in TOC:\n",
    "    with arcpy.da.SearchCursor(fc, f_names) as cursor:\n",
    "        \n",
    "        for row in cursor:\n",
    "            \n",
    "            print(row)"
   ]
  },
  {
   "cell_type": "code",
   "execution_count": null,
   "metadata": {},
   "outputs": [],
   "source": [
    "#Function that takes the name of a shapefile stored in the \n",
    "#current working environment as input (string) together with \n",
    "#the column name whose values we want to extract and a boolean \n",
    "#(unique=True returns only unique values in column) and returns\n",
    "#the content of the corresponding column in a list:\n",
    "def get_TOC_column(fc, colname, unique):\n",
    "    \n",
    "    #Create a list to store the column values:\n",
    "    ls = []\n",
    "    \n",
    "    #Open shapefile:\n",
    "    with arcpy.da.SearchCursor(fc, colname) as cursor:\n",
    "        \n",
    "        #Loop through every row in shapefile:\n",
    "        for row in cursor:\n",
    "            \n",
    "            #If user wants the output list to only include unique values:\n",
    "            if (unique):\n",
    "                \n",
    "                #Check that values is not already stored in the list:\n",
    "                if row[0] not in ls:\n",
    "                    \n",
    "                    #Append value:\n",
    "                    ls.append(row[0])\n",
    "                    \n",
    "            else:\n",
    "                \n",
    "                #Append column value to list:\n",
    "                ls.append(row[0])\n",
    "    \n",
    "    #return list:\n",
    "    return ls"
   ]
  },
  {
   "cell_type": "code",
   "execution_count": null,
   "metadata": {},
   "outputs": [],
   "source": [
    "#Function that creates a new numeric field/column for a given \n",
    "#feature class \n",
    "#(feature_class-string, colname-string, datatype-string (\"LONG\"), numofvalues-integer, numofdecvalues-integer)\n",
    "def create_long_field(fc, colname, datatype, numofvalues, numofdecvalues):\n",
    "    \n",
    "    #Extract field-names from shapefile:\n",
    "    fieldnames = [f.name for f in arcpy.ListFields(fc)]\n",
    "    \n",
    "    #Check if \"NN_dist\" field already exists:\n",
    "    if(colname not in fieldnames):\n",
    "\n",
    "        #Add new field (distance to nearest neighbor) to shapefile: \n",
    "        try:\n",
    "            arcpy.AddField_management(fc, colname, datatype, numofvalues, numofdecvalues)\n",
    "            #print(colname+ \"-field added to \" + fc[0])\n",
    "\n",
    "        except Exception as e:\n",
    "            print(\"Error: \" + e.args[0])\n",
    "    \n",
    "    \n",
    "    "
   ]
  },
  {
   "cell_type": "code",
   "execution_count": null,
   "metadata": {},
   "outputs": [],
   "source": [
    "#Function that reads and returns the name of the spatial reference\n",
    "#system for the input feature layer:\n",
    "def get_CRS(fc):\n",
    "    \n",
    "    #Extract spatial reference system information from feature class:\n",
    "    spatial_ref = arcpy.Describe(fc).spatialReference\n",
    "    \n",
    "    #Return:\n",
    "    return spatial_ref.name\n",
    "    "
   ]
  },
  {
   "cell_type": "markdown",
   "metadata": {},
   "source": [
    "<br>\n",
    "<br>\n",
    "\n",
    "## Compute window centroids - (main function)"
   ]
  },
  {
   "cell_type": "code",
   "execution_count": null,
   "metadata": {},
   "outputs": [],
   "source": [
    "#Function that takes a multipatch layer of rectangular windows as input \n",
    "#and returns a new feature class with their centroids (point layer):\n",
    "def compute_w_centroid(fc, vcs, out_file):\n",
    "    \n",
    "    #Convert window multipatch to points:\n",
    "    w_points = arcpy.FeatureVerticesToPoints_management(fc)\n",
    "    \n",
    "    #Convert window points to lines:\n",
    "    w_lines = arcpy.management.PointsToLine(Input_Features=w_points, Line_Field=\"ORIG_FID\",\n",
    "                                            Sort_Field=\"\", Close_Line=\"NO_CLOSE\")\n",
    "    \n",
    "    #Extract 3D geometry (Z: elevation for every window line):\n",
    "    arcpy.CheckExtension(\"3D\") \n",
    "    arcpy.CheckOutExtension(\"3D\")\n",
    "    arcpy.ddd.AddZInformation(w_lines, \"Z_MEAN\", 'NO_FILTER')\n",
    "    arcpy.CheckInExtension(\"3D\")\n",
    "    \n",
    "    #Add centroid fields to window-lines shapefile:\n",
    "    create_long_field(w_lines, \"C_X_coord\", \"LONG\", 9, 2)\n",
    "    create_long_field(w_lines, \"C_Y_coord\", \"LONG\", 9, 2)\n",
    "    \n",
    "    \n",
    "    #Call function to calculate centroid:\n",
    "    arcpy.management.CalculateGeometryAttributes(in_features=w_lines,\n",
    "                                                 geometry_property=[[\"C_X_coord\", \"CENTROID_X\"],\n",
    "                                                                    [\"C_Y_coord\", \"CENTROID_Y\"]],\n",
    "                                                 length_unit=\"\", area_unit=\"\",\n",
    "                                                 coordinate_system=arcpy.SpatialReference(arcpy.Describe(fc).spatialReference.factoryCode, vcs),\n",
    "                                                 coordinate_format=\"SAME_AS_INPUT\")\n",
    "    \n",
    "    #Create separate shapefile (point layer) with window centroids:\n",
    "    arcpy.management.XYTableToPoint(w_lines, out_file,\n",
    "                                    x_field = \"C_X_coord\", \n",
    "                                    y_field = \"C_Y_coord\",\n",
    "                                    z_field = \"Z_MEAN\",\n",
    "                                    coordinate_system = arcpy.SpatialReference(arcpy.Describe(fc).spatialReference.factoryCode, vcs))\n",
    "    \n",
    "    \n",
    "    #Rename field corresponding to centroid c-coordinate:\n",
    "    create_long_field(out_file, \"C_Z_coord\", \"LONG\", 9, 2)\n",
    "    arcpy.CalculateField_management(out_file, \"C_Z_coord\", \"!Z_MEAN!\", \"PYTHON_9.3\", \"\")\n",
    "    arcpy.DeleteField_management(out_file, \"Z_MEAN\")\n",
    "    arcpy.DeleteField_management(out_file, \"Id\")\n",
    "    \n",
    "    #Join input feature class with output feature class to maintain columns:\n",
    "    arcpy.JoinField_management(out_file, 'ORIG_FID', fc, 'FID')\n",
    "    \n",
    "    #Delete help-files:\n",
    "    #Check files in working folder:\n",
    "    for file in os.listdir(working_environment):\n",
    "\n",
    "        #Find temp help-files:\n",
    "        if (file.endswith(\".shp\") & (\"FeatureVerticesToPoin\" in file) & (fc.split('.')[0] in file)):\n",
    "\n",
    "            #Delete files:\n",
    "            arcpy.Delete_management(file)\n"
   ]
  },
  {
   "cell_type": "markdown",
   "metadata": {},
   "source": [
    "<br>\n",
    "<br>\n",
    "\n",
    "## Execute calculations\n",
    "\n",
    "<br>\n",
    "<br>"
   ]
  },
  {
   "cell_type": "code",
   "execution_count": null,
   "metadata": {},
   "outputs": [],
   "source": [
    "#Set input variables:\n",
    "building_number = 16\n",
    "working_environment = r\"C:\\Users\\Karolina.Pantazatou\\Documents\\ArcGIS\\Projects\\solkvarteret_hyllie_2\\reproj\"\n",
    "input_feature_class = \"windows.shp\"\n",
    "VCS = 5613 #vertical coordinate system (5613 corresponds to RH2000) \n",
    "\n",
    "# Set environment settings:\n",
    "arcpy.env.workspace = working_environment\n",
    "\n",
    "#Set output variables:\n",
    "out_path = \"C:\\\\Users\\\\Karolina.Pantazatou\\\\Documents\\\\ArcGIS\\\\Projects\\\\solkvarteret_hyllie_2\\\\window_centroids\\\\reproj\\\\\"\n",
    "out_file = \"droppen_w_centroids.shp\"\n",
    "output = out_path+out_file"
   ]
  },
  {
   "cell_type": "code",
   "execution_count": null,
   "metadata": {},
   "outputs": [],
   "source": [
    "# Get description of input feature class:\n",
    "desc = arcpy.da.Describe(input_feature_class)"
   ]
  },
  {
   "cell_type": "code",
   "execution_count": null,
   "metadata": {},
   "outputs": [],
   "source": [
    "#Call function to compute window centroids:\n",
    "compute_w_centroid(input_feature_class, VCS, output)"
   ]
  },
  {
   "cell_type": "markdown",
   "metadata": {},
   "source": [
    "<br>\n",
    "<br>\n",
    "\n",
    "## Check output"
   ]
  },
  {
   "cell_type": "code",
   "execution_count": null,
   "metadata": {},
   "outputs": [],
   "source": [
    "get_field_names(output)"
   ]
  },
  {
   "cell_type": "code",
   "execution_count": null,
   "metadata": {},
   "outputs": [],
   "source": [
    "get_TOC(output)"
   ]
  },
  {
   "cell_type": "code",
   "execution_count": null,
   "metadata": {},
   "outputs": [],
   "source": [
    "get_field_names(input_feature_class)"
   ]
  },
  {
   "cell_type": "code",
   "execution_count": null,
   "metadata": {},
   "outputs": [],
   "source": [
    "get_TOC(input_feature_class)"
   ]
  },
  {
   "cell_type": "markdown",
   "metadata": {},
   "source": [
    "<br>\n",
    "<br>\n",
    "\n",
    "## Reference links:\n",
    "\n",
    "- Extensions:\n",
    "    - https://gis.stackexchange.com/questions/54044/arcgis-error-000824-the-tool-is-not-licensed-in-arcpy\n",
    "    - https://pro.arcgis.com/en/pro-app/2.8/arcpy/functions/checkextension.htm\n",
    "    \n",
    "    \n",
    "- Feature vertices to Points (Data Management):\n",
    "    - https://pro.arcgis.com/en/pro-app/2.8/tool-reference/data-management/feature-vertices-to-points.htm\n",
    "\n",
    "\n",
    "- Add Z Information (3D Analyst):\n",
    "    - https://pro.arcgis.com/en/pro-app/2.8/tool-reference/3d-analyst/add-z-information.htm\n",
    "\n",
    "\n",
    "- Centroid calculation (alternative for 2D datasets):\n",
    "    - https://stackoverflow.com/questions/23020659/fastest-way-to-calculate-the-centroid-of-a-set-of-coordinate-tuples-in-python-wi\n",
    "    \n",
    "    \n",
    "- Spatial Reference:\n",
    "    - https://pro.arcgis.com/en/pro-app/2.8/arcpy/classes/spatialreference.htm\n",
    "    \n",
    "\n",
    "- Delete Shapefile:\n",
    "    - https://pro.arcgis.com/en/pro-app/2.8/tool-reference/data-management/delete.htm\n",
    "    \n",
    "    \n",
    "- Find files in directory:\n",
    "    - https://stackoverflow.com/questions/3964681/find-all-files-in-a-directory-with-extension-txt-in-python\n",
    "    \n",
    "    \n",
    "- Join Field (Data Management):\n",
    "    - https://pro.arcgis.com/en/pro-app/2.8/tool-reference/data-management/join-field.htm"
   ]
  },
  {
   "cell_type": "markdown",
   "metadata": {},
   "source": [
    "<br>\n",
    "<br>"
   ]
  }
 ],
 "metadata": {
  "kernelspec": {
   "display_name": "Python 3",
   "language": "python",
   "name": "python3"
  },
  "language_info": {
   "codemirror_mode": {
    "name": "ipython",
    "version": 3
   },
   "file_extension": ".py",
   "mimetype": "text/x-python",
   "name": "python",
   "nbconvert_exporter": "python",
   "pygments_lexer": "ipython3",
   "version": "3.7.9"
  }
 },
 "nbformat": 4,
 "nbformat_minor": 4
}
